{
 "cells": [
  {
   "cell_type": "code",
   "execution_count": null,
   "metadata": {},
   "outputs": [],
   "source": []
  },
  {
   "cell_type": "markdown",
   "metadata": {},
   "source": [
    "# Loading Salary Database for EDA"
   ]
  },
  {
   "cell_type": "code",
   "execution_count": 72,
   "metadata": {},
   "outputs": [],
   "source": [
    "import pandas as pd\n",
    "import numpy as np\n",
    "import seaborn as sns\n",
    "import matplotlib.pyplot as plt\n",
    "import warnings\n",
    "warnings.filterwarnings('ignore')"
   ]
  },
  {
   "cell_type": "code",
   "execution_count": 73,
   "metadata": {},
   "outputs": [
    {
     "data": {
      "text/html": [
       "<div>\n",
       "<style scoped>\n",
       "    .dataframe tbody tr th:only-of-type {\n",
       "        vertical-align: middle;\n",
       "    }\n",
       "\n",
       "    .dataframe tbody tr th {\n",
       "        vertical-align: top;\n",
       "    }\n",
       "\n",
       "    .dataframe thead th {\n",
       "        text-align: right;\n",
       "    }\n",
       "</style>\n",
       "<table border=\"1\" class=\"dataframe\">\n",
       "  <thead>\n",
       "    <tr style=\"text-align: right;\">\n",
       "      <th></th>\n",
       "      <th>YearsExperience</th>\n",
       "      <th>Salary</th>\n",
       "    </tr>\n",
       "  </thead>\n",
       "  <tbody>\n",
       "    <tr>\n",
       "      <th>0</th>\n",
       "      <td>1.1</td>\n",
       "      <td>39343</td>\n",
       "    </tr>\n",
       "    <tr>\n",
       "      <th>1</th>\n",
       "      <td>1.3</td>\n",
       "      <td>46205</td>\n",
       "    </tr>\n",
       "    <tr>\n",
       "      <th>2</th>\n",
       "      <td>1.5</td>\n",
       "      <td>37731</td>\n",
       "    </tr>\n",
       "    <tr>\n",
       "      <th>3</th>\n",
       "      <td>2.0</td>\n",
       "      <td>43525</td>\n",
       "    </tr>\n",
       "    <tr>\n",
       "      <th>4</th>\n",
       "      <td>2.2</td>\n",
       "      <td>39891</td>\n",
       "    </tr>\n",
       "  </tbody>\n",
       "</table>\n",
       "</div>"
      ],
      "text/plain": [
       "   YearsExperience  Salary\n",
       "0              1.1   39343\n",
       "1              1.3   46205\n",
       "2              1.5   37731\n",
       "3              2.0   43525\n",
       "4              2.2   39891"
      ]
     },
     "execution_count": 73,
     "metadata": {},
     "output_type": "execute_result"
    }
   ],
   "source": [
    "salary=pd.read_csv('Salary.csv')\n",
    "salary.head()"
   ]
  },
  {
   "cell_type": "code",
   "execution_count": 74,
   "metadata": {},
   "outputs": [
    {
     "data": {
      "text/html": [
       "<div>\n",
       "<style scoped>\n",
       "    .dataframe tbody tr th:only-of-type {\n",
       "        vertical-align: middle;\n",
       "    }\n",
       "\n",
       "    .dataframe tbody tr th {\n",
       "        vertical-align: top;\n",
       "    }\n",
       "\n",
       "    .dataframe thead th {\n",
       "        text-align: right;\n",
       "    }\n",
       "</style>\n",
       "<table border=\"1\" class=\"dataframe\">\n",
       "  <thead>\n",
       "    <tr style=\"text-align: right;\">\n",
       "      <th></th>\n",
       "      <th>YearsExperience</th>\n",
       "      <th>Salary</th>\n",
       "    </tr>\n",
       "  </thead>\n",
       "  <tbody>\n",
       "    <tr>\n",
       "      <th>30</th>\n",
       "      <td>11.2</td>\n",
       "      <td>127345</td>\n",
       "    </tr>\n",
       "    <tr>\n",
       "      <th>31</th>\n",
       "      <td>11.5</td>\n",
       "      <td>126756</td>\n",
       "    </tr>\n",
       "    <tr>\n",
       "      <th>32</th>\n",
       "      <td>12.3</td>\n",
       "      <td>128765</td>\n",
       "    </tr>\n",
       "    <tr>\n",
       "      <th>33</th>\n",
       "      <td>12.9</td>\n",
       "      <td>135675</td>\n",
       "    </tr>\n",
       "    <tr>\n",
       "      <th>34</th>\n",
       "      <td>13.5</td>\n",
       "      <td>139465</td>\n",
       "    </tr>\n",
       "  </tbody>\n",
       "</table>\n",
       "</div>"
      ],
      "text/plain": [
       "    YearsExperience  Salary\n",
       "30             11.2  127345\n",
       "31             11.5  126756\n",
       "32             12.3  128765\n",
       "33             12.9  135675\n",
       "34             13.5  139465"
      ]
     },
     "execution_count": 74,
     "metadata": {},
     "output_type": "execute_result"
    }
   ],
   "source": [
    "salary.tail()"
   ]
  },
  {
   "cell_type": "code",
   "execution_count": 75,
   "metadata": {},
   "outputs": [
    {
     "data": {
      "text/plain": [
       "(35, 2)"
      ]
     },
     "execution_count": 75,
     "metadata": {},
     "output_type": "execute_result"
    }
   ],
   "source": [
    "salary.shape"
   ]
  },
  {
   "cell_type": "code",
   "execution_count": 76,
   "metadata": {},
   "outputs": [
    {
     "name": "stdout",
     "output_type": "stream",
     "text": [
      "<class 'pandas.core.frame.DataFrame'>\n",
      "RangeIndex: 35 entries, 0 to 34\n",
      "Data columns (total 2 columns):\n",
      " #   Column           Non-Null Count  Dtype  \n",
      "---  ------           --------------  -----  \n",
      " 0   YearsExperience  35 non-null     float64\n",
      " 1   Salary           35 non-null     int64  \n",
      "dtypes: float64(1), int64(1)\n",
      "memory usage: 688.0 bytes\n"
     ]
    }
   ],
   "source": [
    "salary.info()"
   ]
  },
  {
   "cell_type": "markdown",
   "metadata": {},
   "source": [
    "# Summary Statistics"
   ]
  },
  {
   "cell_type": "code",
   "execution_count": 77,
   "metadata": {},
   "outputs": [
    {
     "data": {
      "text/html": [
       "<div>\n",
       "<style scoped>\n",
       "    .dataframe tbody tr th:only-of-type {\n",
       "        vertical-align: middle;\n",
       "    }\n",
       "\n",
       "    .dataframe tbody tr th {\n",
       "        vertical-align: top;\n",
       "    }\n",
       "\n",
       "    .dataframe thead th {\n",
       "        text-align: right;\n",
       "    }\n",
       "</style>\n",
       "<table border=\"1\" class=\"dataframe\">\n",
       "  <thead>\n",
       "    <tr style=\"text-align: right;\">\n",
       "      <th></th>\n",
       "      <th>YearsExperience</th>\n",
       "      <th>Salary</th>\n",
       "    </tr>\n",
       "  </thead>\n",
       "  <tbody>\n",
       "    <tr>\n",
       "      <th>count</th>\n",
       "      <td>35.000000</td>\n",
       "      <td>35.000000</td>\n",
       "    </tr>\n",
       "    <tr>\n",
       "      <th>mean</th>\n",
       "      <td>6.308571</td>\n",
       "      <td>83945.600000</td>\n",
       "    </tr>\n",
       "    <tr>\n",
       "      <th>std</th>\n",
       "      <td>3.618610</td>\n",
       "      <td>32162.673003</td>\n",
       "    </tr>\n",
       "    <tr>\n",
       "      <th>min</th>\n",
       "      <td>1.100000</td>\n",
       "      <td>37731.000000</td>\n",
       "    </tr>\n",
       "    <tr>\n",
       "      <th>25%</th>\n",
       "      <td>3.450000</td>\n",
       "      <td>57019.000000</td>\n",
       "    </tr>\n",
       "    <tr>\n",
       "      <th>50%</th>\n",
       "      <td>5.300000</td>\n",
       "      <td>81363.000000</td>\n",
       "    </tr>\n",
       "    <tr>\n",
       "      <th>75%</th>\n",
       "      <td>9.250000</td>\n",
       "      <td>113223.500000</td>\n",
       "    </tr>\n",
       "    <tr>\n",
       "      <th>max</th>\n",
       "      <td>13.500000</td>\n",
       "      <td>139465.000000</td>\n",
       "    </tr>\n",
       "  </tbody>\n",
       "</table>\n",
       "</div>"
      ],
      "text/plain": [
       "       YearsExperience         Salary\n",
       "count        35.000000      35.000000\n",
       "mean          6.308571   83945.600000\n",
       "std           3.618610   32162.673003\n",
       "min           1.100000   37731.000000\n",
       "25%           3.450000   57019.000000\n",
       "50%           5.300000   81363.000000\n",
       "75%           9.250000  113223.500000\n",
       "max          13.500000  139465.000000"
      ]
     },
     "execution_count": 77,
     "metadata": {},
     "output_type": "execute_result"
    }
   ],
   "source": [
    "salary.describe()"
   ]
  },
  {
   "cell_type": "raw",
   "metadata": {},
   "source": [
    "\"\"\" \n",
    "    KEY OBSERVATIONS:\n",
    "        1) The mean is more than median.\n",
    "        2) There is a large difference in 75% percentile and max.\n",
    "        3) The 1 and 2 observation suggest that there are outliers present in the columns\n",
    "        \n",
    "\"\"\""
   ]
  },
  {
   "cell_type": "code",
   "execution_count": 78,
   "metadata": {},
   "outputs": [
    {
     "data": {
      "text/plain": [
       "array([ 39343,  46205,  37731,  43525,  39891,  56642,  60150,  54445,\n",
       "        64445,  57189,  63218,  55794,  56957,  57081,  61111,  67938,\n",
       "        66029,  83088,  81363,  93940,  91738,  98273, 101302, 113812,\n",
       "       109431, 105582, 116969, 112635, 122391, 121872, 127345, 126756,\n",
       "       128765, 135675, 139465], dtype=int64)"
      ]
     },
     "execution_count": 78,
     "metadata": {},
     "output_type": "execute_result"
    }
   ],
   "source": [
    "salary.Salary.unique()"
   ]
  },
  {
   "cell_type": "markdown",
   "metadata": {},
   "source": [
    "# Data Visualizations"
   ]
  },
  {
   "cell_type": "code",
   "execution_count": 79,
   "metadata": {},
   "outputs": [
    {
     "data": {
      "text/plain": [
       "array([[<matplotlib.axes._subplots.AxesSubplot object at 0x00000294A34F7DC8>,\n",
       "        <matplotlib.axes._subplots.AxesSubplot object at 0x00000294A3378D08>]],\n",
       "      dtype=object)"
      ]
     },
     "execution_count": 79,
     "metadata": {},
     "output_type": "execute_result"
    },
    {
     "data": {
      "image/png": "[encoded data removed]",
      "text/plain": [
       "<Figure size 1080x432 with 2 Axes>"
      ]
     },
     "metadata": {
      "needs_background": "light"
     },
     "output_type": "display_data"
    }
   ],
   "source": [
    "# histogram representation of dataset\n",
    "salary.hist(figsize=(15,6))"
   ]
  },
  {
   "cell_type": "code",
   "execution_count": 80,
   "metadata": {},
   "outputs": [
    {
     "data": {
      "text/plain": [
       "Index(['YearsExperience', 'Salary'], dtype='object')"
      ]
     },
     "execution_count": 80,
     "metadata": {},
     "output_type": "execute_result"
    }
   ],
   "source": [
    "salary.columns"
   ]
  },
  {
   "cell_type": "code",
   "execution_count": 81,
   "metadata": {},
   "outputs": [
    {
     "data": {
      "image/png": "[encoded data removed]",
      "text/plain": [
       "<Figure size 1440x576 with 1 Axes>"
      ]
     },
     "metadata": {
      "needs_background": "light"
     },
     "output_type": "display_data"
    }
   ],
   "source": [
    "exp = salary[['YearsExperience', 'Salary']]\n",
    "exp.plot(kind = 'line',figsize=(20,8),color='g')\n",
    "plt.title('Trend of Salary Across years of experience')\n",
    "plt.ylabel(\"Salary\")\n",
    "plt.xlabel(\"YearsExperience\")\n",
    "plt.show()\n",
    "# shows a lenier growth with years of experience"
   ]
  },
  {
   "cell_type": "code",
   "execution_count": 82,
   "metadata": {},
   "outputs": [
    {
     "data": {
      "image/png": "[encoded data removed]",
      "text/plain": [
       "<Figure size 864x720 with 1 Axes>"
      ]
     },
     "metadata": {
      "needs_background": "light"
     },
     "output_type": "display_data"
    }
   ],
   "source": [
    "plt.figure(figsize=(12,10))\n",
    "plt.scatter(salary['YearsExperience'],salary['Salary'])\n",
    "plt.title(\"Salary Vs YearsExperience\")\n",
    "plt.ylabel(\"Salary\")\n",
    "plt.xlabel(\"YearsExperience\")\n",
    "plt.show()"
   ]
  },
  {
   "cell_type": "code",
   "execution_count": 83,
   "metadata": {},
   "outputs": [
    {
     "data": {
      "image/png": "[encoded data removed]",
      "text/plain": [
       "<Figure size 864x720 with 1 Axes>"
      ]
     },
     "metadata": {
      "needs_background": "light"
     },
     "output_type": "display_data"
    }
   ],
   "source": [
    "#lets check how salary is changing with respect to years of experience\n",
    "plt.figure(figsize=(12,10))\n",
    "sns.lineplot(x=salary[\"Salary\"],y=salary[\"YearsExperience\"],data=salary)\n",
    "plt.title(\"Salary Vs YearsExperience\")\n",
    "plt.show()"
   ]
  },
  {
   "cell_type": "code",
   "execution_count": 84,
   "metadata": {},
   "outputs": [
    {
     "name": "stdout",
     "output_type": "stream",
     "text": [
      "Requirement already satisfied: plotly==3.10 in c:\\users\\user\\anaconda3\\lib\\site-packages (3.10.0)\n",
      "Requirement already satisfied: six in c:\\users\\user\\anaconda3\\lib\\site-packages (from plotly==3.10) (1.14.0)\n",
      "Requirement already satisfied: retrying>=1.3.3 in c:\\users\\user\\anaconda3\\lib\\site-packages (from plotly==3.10) (1.3.3)\n",
      "Requirement already satisfied: requests in c:\\users\\user\\anaconda3\\lib\\site-packages (from plotly==3.10) (2.22.0)\n",
      "Requirement already satisfied: decorator>=4.0.6 in c:\\users\\user\\anaconda3\\lib\\site-packages (from plotly==3.10) (4.4.1)\n",
      "Requirement already satisfied: nbformat>=4.2 in c:\\users\\user\\anaconda3\\lib\\site-packages (from plotly==3.10) (5.0.4)\n",
      "Requirement already satisfied: pytz in c:\\users\\user\\anaconda3\\lib\\site-packages (from plotly==3.10) (2019.3)\n",
      "Requirement already satisfied: idna<2.9,>=2.5 in c:\\users\\user\\anaconda3\\lib\\site-packages (from requests->plotly==3.10) (2.8)\n",
      "Requirement already satisfied: chardet<3.1.0,>=3.0.2 in c:\\users\\user\\anaconda3\\lib\\site-packages (from requests->plotly==3.10) (3.0.4)\n",
      "Requirement already satisfied: urllib3!=1.25.0,!=1.25.1,<1.26,>=1.21.1 in c:\\users\\user\\anaconda3\\lib\\site-packages (from requests->plotly==3.10) (1.25.8)\n",
      "Requirement already satisfied: certifi>=2017.4.17 in c:\\users\\user\\anaconda3\\lib\\site-packages (from requests->plotly==3.10) (2019.11.28)\n",
      "Requirement already satisfied: jsonschema!=2.5.0,>=2.4 in c:\\users\\user\\anaconda3\\lib\\site-packages (from nbformat>=4.2->plotly==3.10) (3.2.0)\n",
      "Requirement already satisfied: jupyter-core in c:\\users\\user\\anaconda3\\lib\\site-packages (from nbformat>=4.2->plotly==3.10) (4.6.1)\n",
      "Requirement already satisfied: traitlets>=4.1 in c:\\users\\user\\anaconda3\\lib\\site-packages (from nbformat>=4.2->plotly==3.10) (4.3.3)\n",
      "Requirement already satisfied: ipython-genutils in c:\\users\\user\\anaconda3\\lib\\site-packages (from nbformat>=4.2->plotly==3.10) (0.2.0)\n",
      "Requirement already satisfied: attrs>=17.4.0 in c:\\users\\user\\anaconda3\\lib\\site-packages (from jsonschema!=2.5.0,>=2.4->nbformat>=4.2->plotly==3.10) (19.3.0)\n",
      "Requirement already satisfied: setuptools in c:\\users\\user\\anaconda3\\lib\\site-packages (from jsonschema!=2.5.0,>=2.4->nbformat>=4.2->plotly==3.10) (45.2.0.post20200210)\n",
      "Requirement already satisfied: pyrsistent>=0.14.0 in c:\\users\\user\\anaconda3\\lib\\site-packages (from jsonschema!=2.5.0,>=2.4->nbformat>=4.2->plotly==3.10) (0.15.7)\n",
      "Requirement already satisfied: importlib-metadata; python_version < \"3.8\" in c:\\users\\user\\anaconda3\\lib\\site-packages (from jsonschema!=2.5.0,>=2.4->nbformat>=4.2->plotly==3.10) (1.5.0)\n",
      "Requirement already satisfied: pywin32>=1.0; sys_platform == \"win32\" in c:\\users\\user\\anaconda3\\lib\\site-packages (from jupyter-core->nbformat>=4.2->plotly==3.10) (227)\n",
      "Requirement already satisfied: zipp>=0.5 in c:\\users\\user\\anaconda3\\lib\\site-packages (from importlib-metadata; python_version < \"3.8\"->jsonschema!=2.5.0,>=2.4->nbformat>=4.2->plotly==3.10) (2.2.0)\n"
     ]
    },
    {
     "data": {
      "text/html": [
       "        <script type=\"text/javascript\">\n",
       "        window.PlotlyConfig = {MathJaxConfig: 'local'};\n",
       "        if (window.MathJax) {MathJax.Hub.Config({SVG: {font: \"STIX-Web\"}});}\n",
       "        if (typeof require !== 'undefined') {\n",
       "        require.undef(\"plotly\");\n",
       "        requirejs.config({\n",
       "            paths: {\n",
       "                'plotly': ['https://cdn.plot.ly/plotly-latest.min']\n",
       "            }\n",
       "        });\n",
       "        require(['plotly'], function(Plotly) {\n",
       "            window._Plotly = Plotly;\n",
       "        });\n",
       "        }\n",
       "        </script>\n",
       "        "
      ]
     },
     "metadata": {},
     "output_type": "display_data"
    }
   ],
   "source": [
    "# Installing and importing important libraries for graphical representation \n",
    "!pip install plotly==3.10\n",
    "import plotly.plotly as po\n",
    "import plotly.figure_factory as ff\n",
    "import numpy as np\n",
    "from plotly.offline import init_notebook_mode, iplot\n",
    "init_notebook_mode(connected=True)\n",
    "import plotly.graph_objs as go"
   ]
  },
  {
   "cell_type": "code",
   "execution_count": 85,
   "metadata": {},
   "outputs": [
    {
     "data": {
      "application/vnd.plotly.v1+json": {
       "config": {
        "linkText": "Export to plot.ly",
        "plotlyServerURL": "https://plot.ly",
        "showLink": false
       },
       "data": [
        {
         "marker": {
          "color": "rgb(12, 51, 131)"
         },
         "showlegend": false,
         "type": "box",
         "uid": "00f2bce0-63f4-4e86-badc-35f1627710df",
         "xaxis": "x",
         "y": [
          1.1,
          1.3,
          1.5,
          2,
          2.2,
          2.9,
          3,
          3.2,
          3.2,
          3.7,
          3.9,
          4,
          4,
          4.1,
          4.5,
          4.9,
          5.1,
          5.3,
          5.9,
          6,
          6.8,
          7.1,
          7.9,
          8.2,
          8.7,
          9,
          9.5,
          9.6,
          10.3,
          10.5,
          11.2,
          11.5,
          12.3,
          12.9,
          13.5
         ],
         "yaxis": "y"
        },
        {
         "marker": {
          "color": [
           1,
           2,
           3,
           4,
           5,
           6,
           7,
           8,
           9,
           10,
           11,
           12,
           13,
           14,
           15,
           16,
           17,
           18,
           19,
           20,
           21,
           22,
           23,
           24,
           25,
           26,
           27,
           28,
           29,
           30,
           31,
           32,
           33,
           34,
           35
          ],
          "colorscale": [
           [
            0,
            "rgb(12, 51, 131)"
           ],
           [
            1,
            "rgb(217, 30, 30)"
           ]
          ],
          "showscale": true,
          "size": 6
         },
         "mode": "markers",
         "showlegend": false,
         "type": "scatter",
         "uid": "b72117fb-fa54-48e8-a3a0-e33cd3579a2f",
         "x": [
          39343,
          46205,
          37731,
          43525,
          39891,
          56642,
          60150,
          54445,
          64445,
          57189,
          63218,
          55794,
          56957,
          57081,
          61111,
          67938,
          66029,
          83088,
          81363,
          93940,
          91738,
          98273,
          101302,
          113812,
          109431,
          105582,
          116969,
          112635,
          122391,
          121872,
          127345,
          126756,
          128765,
          135675,
          139465
         ],
         "xaxis": "x2",
         "y": [
          1.1,
          1.3,
          1.5,
          2,
          2.2,
          2.9,
          3,
          3.2,
          3.2,
          3.7,
          3.9,
          4,
          4,
          4.1,
          4.5,
          4.9,
          5.1,
          5.3,
          5.9,
          6,
          6.8,
          7.1,
          7.9,
          8.2,
          8.7,
          9,
          9.5,
          9.6,
          10.3,
          10.5,
          11.2,
          11.5,
          12.3,
          12.9,
          13.5
         ],
         "yaxis": "y2"
        },
        {
         "marker": {
          "color": [
           1,
           2,
           3,
           4,
           5,
           6,
           7,
           8,
           9,
           10,
           11,
           12,
           13,
           14,
           15,
           16,
           17,
           18,
           19,
           20,
           21,
           22,
           23,
           24,
           25,
           26,
           27,
           28,
           29,
           30,
           31,
           32,
           33,
           34,
           35
          ],
          "colorscale": [
           [
            0,
            "rgb(12, 51, 131)"
           ],
           [
            1,
            "rgb(217, 30, 30)"
           ]
          ],
          "showscale": false,
          "size": 6
         },
         "mode": "markers",
         "showlegend": false,
         "type": "scatter",
         "uid": "c3968f84-a0c0-4bff-a270-05d36fdc64ff",
         "x": [
          1.1,
          1.3,
          1.5,
          2,
          2.2,
          2.9,
          3,
          3.2,
          3.2,
          3.7,
          3.9,
          4,
          4,
          4.1,
          4.5,
          4.9,
          5.1,
          5.3,
          5.9,
          6,
          6.8,
          7.1,
          7.9,
          8.2,
          8.7,
          9,
          9.5,
          9.6,
          10.3,
          10.5,
          11.2,
          11.5,
          12.3,
          12.9,
          13.5
         ],
         "xaxis": "x3",
         "y": [
          39343,
          46205,
          37731,
          43525,
          39891,
          56642,
          60150,
          54445,
          64445,
          57189,
          63218,
          55794,
          56957,
          57081,
          61111,
          67938,
          66029,
          83088,
          81363,
          93940,
          91738,
          98273,
          101302,
          113812,
          109431,
          105582,
          116969,
          112635,
          122391,
          121872,
          127345,
          126756,
          128765,
          135675,
          139465
         ],
         "yaxis": "y3"
        },
        {
         "marker": {
          "color": "rgb(12, 51, 131)"
         },
         "showlegend": false,
         "type": "box",
         "uid": "e1a73f80-b958-478c-a778-bad736b673bd",
         "xaxis": "x4",
         "y": [
          39343,
          46205,
          37731,
          43525,
          39891,
          56642,
          60150,
          54445,
          64445,
          57189,
          63218,
          55794,
          56957,
          57081,
          61111,
          67938,
          66029,
          83088,
          81363,
          93940,
          91738,
          98273,
          101302,
          113812,
          109431,
          105582,
          116969,
          112635,
          122391,
          121872,
          127345,
          126756,
          128765,
          135675,
          139465
         ],
         "yaxis": "y4"
        }
       ],
       "layout": {
        "height": 800,
        "showlegend": true,
        "title": {
         "text": "Scatterplot Matrix"
        },
        "width": 1000,
        "xaxis": {
         "anchor": "y",
         "domain": [
          0,
          0.45
         ],
         "showticklabels": false
        },
        "xaxis2": {
         "anchor": "y2",
         "domain": [
          0.55,
          1
         ]
        },
        "xaxis3": {
         "anchor": "y3",
         "domain": [
          0,
          0.45
         ],
         "title": {
          "text": "YearsExperience"
         }
        },
        "xaxis4": {
         "anchor": "y4",
         "domain": [
          0.55,
          1
         ],
         "showticklabels": false,
         "title": {
          "text": "Salary"
         }
        },
        "yaxis": {
         "anchor": "x",
         "domain": [
          0.575,
          1
         ],
         "title": {
          "text": "YearsExperience"
         }
        },
        "yaxis2": {
         "anchor": "x2",
         "domain": [
          0.575,
          1
         ]
        },
        "yaxis3": {
         "anchor": "x3",
         "domain": [
          0,
          0.425
         ],
         "title": {
          "text": "Salary"
         }
        },
        "yaxis4": {
         "anchor": "x4",
         "domain": [
          0,
          0.425
         ]
        }
       }
      },
      "text/html": [
       "<div>\n",
       "        \n",
       "        \n",
       "            <div id=\"ad29cd52-f0f5-41e0-829d-6221afc7de83\" class=\"plotly-graph-div\" style=\"height:800px; width:1000px;\"></div>\n",
       "            <script type=\"text/javascript\">\n",
       "                require([\"plotly\"], function(Plotly) {\n",
       "                    window.PLOTLYENV=window.PLOTLYENV || {};\n",
       "                    window.PLOTLYENV.BASE_URL='https://plot.ly';\n",
       "                    \n",
       "                if (document.getElementById(\"ad29cd52-f0f5-41e0-829d-6221afc7de83\")) {\n",
       "                    Plotly.newPlot(\n",
       "                        'ad29cd52-f0f5-41e0-829d-6221afc7de83',\n",
       "                        [{\"marker\": {\"color\": \"rgb(12, 51, 131)\"}, \"showlegend\": false, \"type\": \"box\", \"uid\": \"00f2bce0-63f4-4e86-badc-35f1627710df\", \"xaxis\": \"x\", \"y\": [1.1, 1.3, 1.5, 2.0, 2.2, 2.9, 3.0, 3.2, 3.2, 3.7, 3.9, 4.0, 4.0, 4.1, 4.5, 4.9, 5.1, 5.3, 5.9, 6.0, 6.8, 7.1, 7.9, 8.2, 8.7, 9.0, 9.5, 9.6, 10.3, 10.5, 11.2, 11.5, 12.3, 12.9, 13.5], \"yaxis\": \"y\"}, {\"marker\": {\"color\": [1, 2, 3, 4, 5, 6, 7, 8, 9, 10, 11, 12, 13, 14, 15, 16, 17, 18, 19, 20, 21, 22, 23, 24, 25, 26, 27, 28, 29, 30, 31, 32, 33, 34, 35], \"colorscale\": [[0.0, \"rgb(12, 51, 131)\"], [1.0, \"rgb(217, 30, 30)\"]], \"showscale\": true, \"size\": 6}, \"mode\": \"markers\", \"showlegend\": false, \"type\": \"scatter\", \"uid\": \"b72117fb-fa54-48e8-a3a0-e33cd3579a2f\", \"x\": [39343, 46205, 37731, 43525, 39891, 56642, 60150, 54445, 64445, 57189, 63218, 55794, 56957, 57081, 61111, 67938, 66029, 83088, 81363, 93940, 91738, 98273, 101302, 113812, 109431, 105582, 116969, 112635, 122391, 121872, 127345, 126756, 128765, 135675, 139465], \"xaxis\": \"x2\", \"y\": [1.1, 1.3, 1.5, 2.0, 2.2, 2.9, 3.0, 3.2, 3.2, 3.7, 3.9, 4.0, 4.0, 4.1, 4.5, 4.9, 5.1, 5.3, 5.9, 6.0, 6.8, 7.1, 7.9, 8.2, 8.7, 9.0, 9.5, 9.6, 10.3, 10.5, 11.2, 11.5, 12.3, 12.9, 13.5], \"yaxis\": \"y2\"}, {\"marker\": {\"color\": [1, 2, 3, 4, 5, 6, 7, 8, 9, 10, 11, 12, 13, 14, 15, 16, 17, 18, 19, 20, 21, 22, 23, 24, 25, 26, 27, 28, 29, 30, 31, 32, 33, 34, 35], \"colorscale\": [[0.0, \"rgb(12, 51, 131)\"], [1.0, \"rgb(217, 30, 30)\"]], \"showscale\": false, \"size\": 6}, \"mode\": \"markers\", \"showlegend\": false, \"type\": \"scatter\", \"uid\": \"c3968f84-a0c0-4bff-a270-05d36fdc64ff\", \"x\": [1.1, 1.3, 1.5, 2.0, 2.2, 2.9, 3.0, 3.2, 3.2, 3.7, 3.9, 4.0, 4.0, 4.1, 4.5, 4.9, 5.1, 5.3, 5.9, 6.0, 6.8, 7.1, 7.9, 8.2, 8.7, 9.0, 9.5, 9.6, 10.3, 10.5, 11.2, 11.5, 12.3, 12.9, 13.5], \"xaxis\": \"x3\", \"y\": [39343, 46205, 37731, 43525, 39891, 56642, 60150, 54445, 64445, 57189, 63218, 55794, 56957, 57081, 61111, 67938, 66029, 83088, 81363, 93940, 91738, 98273, 101302, 113812, 109431, 105582, 116969, 112635, 122391, 121872, 127345, 126756, 128765, 135675, 139465], \"yaxis\": \"y3\"}, {\"marker\": {\"color\": \"rgb(12, 51, 131)\"}, \"showlegend\": false, \"type\": \"box\", \"uid\": \"e1a73f80-b958-478c-a778-bad736b673bd\", \"xaxis\": \"x4\", \"y\": [39343, 46205, 37731, 43525, 39891, 56642, 60150, 54445, 64445, 57189, 63218, 55794, 56957, 57081, 61111, 67938, 66029, 83088, 81363, 93940, 91738, 98273, 101302, 113812, 109431, 105582, 116969, 112635, 122391, 121872, 127345, 126756, 128765, 135675, 139465], \"yaxis\": \"y4\"}],\n",
       "                        {\"height\": 800, \"showlegend\": true, \"title\": {\"text\": \"Scatterplot Matrix\"}, \"width\": 1000, \"xaxis\": {\"anchor\": \"y\", \"domain\": [0.0, 0.45], \"showticklabels\": false}, \"xaxis2\": {\"anchor\": \"y2\", \"domain\": [0.55, 1.0]}, \"xaxis3\": {\"anchor\": \"y3\", \"domain\": [0.0, 0.45], \"title\": {\"text\": \"YearsExperience\"}}, \"xaxis4\": {\"anchor\": \"y4\", \"domain\": [0.55, 1.0], \"showticklabels\": false, \"title\": {\"text\": \"Salary\"}}, \"yaxis\": {\"anchor\": \"x\", \"domain\": [0.575, 1.0], \"title\": {\"text\": \"YearsExperience\"}}, \"yaxis2\": {\"anchor\": \"x2\", \"domain\": [0.575, 1.0]}, \"yaxis3\": {\"anchor\": \"x3\", \"domain\": [0.0, 0.425], \"title\": {\"text\": \"Salary\"}}, \"yaxis4\": {\"anchor\": \"x4\", \"domain\": [0.0, 0.425]}},\n",
       "                        {\"showLink\": false, \"linkText\": \"Export to plot.ly\", \"plotlyServerURL\": \"https://plot.ly\", \"responsive\": true}\n",
       "                    ).then(function(){\n",
       "                            \n",
       "var gd = document.getElementById('ad29cd52-f0f5-41e0-829d-6221afc7de83');\n",
       "var x = new MutationObserver(function (mutations, observer) {{\n",
       "        var display = window.getComputedStyle(gd).display;\n",
       "        if (!display || display === 'none') {{\n",
       "            console.log([gd, 'removed!']);\n",
       "            Plotly.purge(gd);\n",
       "            observer.disconnect();\n",
       "        }}\n",
       "}});\n",
       "\n",
       "// Listen for the removal of the full notebook cells\n",
       "var notebookContainer = gd.closest('#notebook-container');\n",
       "if (notebookContainer) {{\n",
       "    x.observe(notebookContainer, {childList: true});\n",
       "}}\n",
       "\n",
       "// Listen for the clearing of the current output cell\n",
       "var outputEl = gd.closest('.output');\n",
       "if (outputEl) {{\n",
       "    x.observe(outputEl, {childList: true});\n",
       "}}\n",
       "\n",
       "                        })\n",
       "                };\n",
       "                });\n",
       "            </script>\n",
       "        </div>"
      ]
     },
     "metadata": {},
     "output_type": "display_data"
    }
   ],
   "source": [
    "dataframe = salary\n",
    "data = dataframe.loc[:,['YearsExperience', 'Salary']]\n",
    "data[\"index\"] = np.arange(1, len(data) + 1)\n",
    "\n",
    "fig = ff.create_scatterplotmatrix(data, diag = 'box', index = 'index', colormap = 'Portland',\n",
    "                                  colormap_type = 'cat',\n",
    "                                  height = 800, width = 1000)\n",
    "iplot(fig)"
   ]
  },
  {
   "cell_type": "code",
   "execution_count": 86,
   "metadata": {},
   "outputs": [
    {
     "data": {
      "text/plain": [
       "<matplotlib.axes._subplots.AxesSubplot at 0x294a2dea888>"
      ]
     },
     "execution_count": 86,
     "metadata": {},
     "output_type": "execute_result"
    },
    {
     "data": {
      "image/png": "[encoded data removed]",
      "text/plain": [
       "<Figure size 432x288 with 1 Axes>"
      ]
     },
     "metadata": {
      "needs_background": "light"
     },
     "output_type": "display_data"
    }
   ],
   "source": [
    "salary['YearsExperience'].plot.box()"
   ]
  },
  {
   "cell_type": "code",
   "execution_count": 87,
   "metadata": {},
   "outputs": [
    {
     "data": {
      "text/plain": [
       "<matplotlib.axes._subplots.AxesSubplot at 0x294a35b8288>"
      ]
     },
     "execution_count": 87,
     "metadata": {},
     "output_type": "execute_result"
    },
    {
     "data": {
      "image/png": "[encoded data removed]",
      "text/plain": [
       "<Figure size 432x288 with 1 Axes>"
      ]
     },
     "metadata": {
      "needs_background": "light"
     },
     "output_type": "display_data"
    }
   ],
   "source": [
    "salary['Salary'].plot.box()"
   ]
  },
  {
   "cell_type": "code",
   "execution_count": null,
   "metadata": {},
   "outputs": [],
   "source": []
  },
  {
   "cell_type": "markdown",
   "metadata": {},
   "source": [
    "# Bivariate Analysis"
   ]
  },
  {
   "cell_type": "code",
   "execution_count": 88,
   "metadata": {},
   "outputs": [
    {
     "data": {
      "text/plain": [
       "<seaborn.axisgrid.PairGrid at 0x294a34dfb48>"
      ]
     },
     "execution_count": 88,
     "metadata": {},
     "output_type": "execute_result"
    },
    {
     "data": {
      "image/png": "[encoded data removed]",
      "text/plain": [
       "<Figure size 360x360 with 6 Axes>"
      ]
     },
     "metadata": {
      "needs_background": "light"
     },
     "output_type": "display_data"
    }
   ],
   "source": [
    "sns.pairplot(salary)"
   ]
  },
  {
   "cell_type": "markdown",
   "metadata": {},
   "source": [
    "# Checking null value if any"
   ]
  },
  {
   "cell_type": "code",
   "execution_count": 89,
   "metadata": {},
   "outputs": [
    {
     "data": {
      "image/png": "[encoded data removed]",
      "text/plain": [
       "<Figure size 864x504 with 2 Axes>"
      ]
     },
     "metadata": {
      "needs_background": "light"
     },
     "output_type": "display_data"
    }
   ],
   "source": [
    "# checking if there are null values present in the dataset or not using heatmap\n",
    "import seaborn as sns\n",
    "import matplotlib.pyplot as plt\n",
    "plt.figure(figsize=(12,7))\n",
    "sns.heatmap(salary.isnull(),annot=True)\n",
    "plt.show()"
   ]
  },
  {
   "cell_type": "code",
   "execution_count": 90,
   "metadata": {},
   "outputs": [
    {
     "data": {
      "text/plain": [
       "YearsExperience    0\n",
       "Salary             0\n",
       "dtype: int64"
      ]
     },
     "execution_count": 90,
     "metadata": {},
     "output_type": "execute_result"
    }
   ],
   "source": [
    "# Checking the null value without using visualization\n",
    "salary.isnull().sum()"
   ]
  },
  {
   "cell_type": "code",
   "execution_count": 91,
   "metadata": {
    "scrolled": true
   },
   "outputs": [
    {
     "data": {
      "text/plain": [
       "(35, 2)"
      ]
     },
     "execution_count": 91,
     "metadata": {},
     "output_type": "execute_result"
    }
   ],
   "source": [
    "salary.shape"
   ]
  },
  {
   "cell_type": "markdown",
   "metadata": {},
   "source": [
    "# Checking Correlation"
   ]
  },
  {
   "cell_type": "code",
   "execution_count": 92,
   "metadata": {},
   "outputs": [
    {
     "data": {
      "text/html": [
       "<div>\n",
       "<style scoped>\n",
       "    .dataframe tbody tr th:only-of-type {\n",
       "        vertical-align: middle;\n",
       "    }\n",
       "\n",
       "    .dataframe tbody tr th {\n",
       "        vertical-align: top;\n",
       "    }\n",
       "\n",
       "    .dataframe thead th {\n",
       "        text-align: right;\n",
       "    }\n",
       "</style>\n",
       "<table border=\"1\" class=\"dataframe\">\n",
       "  <thead>\n",
       "    <tr style=\"text-align: right;\">\n",
       "      <th></th>\n",
       "      <th>YearsExperience</th>\n",
       "      <th>Salary</th>\n",
       "    </tr>\n",
       "  </thead>\n",
       "  <tbody>\n",
       "    <tr>\n",
       "      <th>YearsExperience</th>\n",
       "      <td>1.000000</td>\n",
       "      <td>0.982427</td>\n",
       "    </tr>\n",
       "    <tr>\n",
       "      <th>Salary</th>\n",
       "      <td>0.982427</td>\n",
       "      <td>1.000000</td>\n",
       "    </tr>\n",
       "  </tbody>\n",
       "</table>\n",
       "</div>"
      ],
      "text/plain": [
       "                 YearsExperience    Salary\n",
       "YearsExperience         1.000000  0.982427\n",
       "Salary                  0.982427  1.000000"
      ]
     },
     "execution_count": 92,
     "metadata": {},
     "output_type": "execute_result"
    }
   ],
   "source": [
    "dfcor=salary.corr()\n",
    "dfcor"
   ]
  },
  {
   "cell_type": "code",
   "execution_count": 93,
   "metadata": {},
   "outputs": [
    {
     "data": {
      "text/plain": [
       "<matplotlib.axes._subplots.AxesSubplot at 0x294a3756408>"
      ]
     },
     "execution_count": 93,
     "metadata": {},
     "output_type": "execute_result"
    },
    {
     "data": {
      "image/png": "[encoded data removed]",
      "text/plain": [
       "<Figure size 864x504 with 2 Axes>"
      ]
     },
     "metadata": {
      "needs_background": "light"
     },
     "output_type": "display_data"
    }
   ],
   "source": [
    "# generating heatmap to check the correlation amount features\n",
    "plt.figure(figsize=(12,7))\n",
    "sns.heatmap(dfcor,cmap='ocean_r',linewidths=2,fmt=\".2f\",annot=True)\n",
    "\n",
    "# shows very positive correlation"
   ]
  },
  {
   "cell_type": "markdown",
   "metadata": {},
   "source": [
    "# Plotting Outliers"
   ]
  },
  {
   "cell_type": "code",
   "execution_count": 94,
   "metadata": {},
   "outputs": [
    {
     "data": {
      "text/plain": [
       "(35, 2)"
      ]
     },
     "execution_count": 94,
     "metadata": {},
     "output_type": "execute_result"
    }
   ],
   "source": [
    "salary.shape"
   ]
  },
  {
   "cell_type": "code",
   "execution_count": 95,
   "metadata": {},
   "outputs": [],
   "source": [
    "collist=salary.columns.values\n",
    "ncol=2\n",
    "nrows=2"
   ]
  },
  {
   "cell_type": "code",
   "execution_count": 96,
   "metadata": {},
   "outputs": [
    {
     "data": {
      "image/png": "[encoded data removed]",
      "text/plain": [
       "<Figure size 144x720 with 1 Axes>"
      ]
     },
     "metadata": {
      "needs_background": "light"
     },
     "output_type": "display_data"
    }
   ],
   "source": [
    "plt.figure(figsize=(ncol,5*ncol))\n",
    "for i in range(1, len(collist)):\n",
    "    plt.subplot(nrows,ncol,i+1)\n",
    "    sns.boxplot(salary[collist[i]],color='orange',orient='v')\n",
    "    plt.tight_layout()"
   ]
  },
  {
   "cell_type": "code",
   "execution_count": 97,
   "metadata": {},
   "outputs": [
    {
     "name": "stdout",
     "output_type": "stream",
     "text": [
      "(35, 2)\n",
      "(35, 2)\n"
     ]
    }
   ],
   "source": [
    "# removing if any outliners present in the dataset or not\n",
    "from scipy.stats import zscore\n",
    "z_score=abs(zscore(salary))\n",
    "print(salary.shape)\n",
    "df_salary=salary.loc[(z_score<3).all(axis=1)]\n",
    "print(df_salary.shape)"
   ]
  },
  {
   "cell_type": "markdown",
   "metadata": {},
   "source": [
    "# Checking if skewness is present in datset"
   ]
  },
  {
   "cell_type": "code",
   "execution_count": 98,
   "metadata": {},
   "outputs": [
    {
     "data": {
      "text/plain": [
       "YearsExperience    0.420163\n",
       "Salary             0.209005\n",
       "dtype: float64"
      ]
     },
     "execution_count": 98,
     "metadata": {},
     "output_type": "execute_result"
    }
   ],
   "source": [
    "df_salary.skew()\n",
    "# Below shows positive skeweed data and under limit"
   ]
  },
  {
   "cell_type": "code",
   "execution_count": 118,
   "metadata": {},
   "outputs": [
    {
     "data": {
      "image/png": "[encoded data removed]",
      "text/plain": [
       "<Figure size 1728x1728 with 2 Axes>"
      ]
     },
     "metadata": {
      "needs_background": "light"
     },
     "output_type": "display_data"
    }
   ],
   "source": [
    "# plt.figure(figsize=(5*totalcol,5*totalcol))\n",
    "plt.figure(figsize=(24,24))\n",
    "for i in range(0,len(collist)):\n",
    "    plt.subplot(nrows,ncol,i+1)\n",
    "    sns.distplot(df_salary[collist[i]])"
   ]
  },
  {
   "cell_type": "markdown",
   "metadata": {},
   "source": [
    "# Seperating input and output variable for the regression problem"
   ]
  },
  {
   "cell_type": "code",
   "execution_count": 119,
   "metadata": {},
   "outputs": [],
   "source": [
    "# Seperating input and output variable for the linear regression problem\n",
    "\n",
    "# defining x variables\n",
    "x=df_salary[[\"YearsExperience\"]]\n",
    "\n",
    "# defining y variables\n",
    "y=df_salary[\"Salary\"]\n"
   ]
  },
  {
   "cell_type": "code",
   "execution_count": 120,
   "metadata": {
    "scrolled": true
   },
   "outputs": [
    {
     "data": {
      "text/plain": [
       "(35, 1)"
      ]
     },
     "execution_count": 120,
     "metadata": {},
     "output_type": "execute_result"
    }
   ],
   "source": [
    "x.shape"
   ]
  },
  {
   "cell_type": "code",
   "execution_count": 122,
   "metadata": {},
   "outputs": [
    {
     "data": {
      "text/html": [
       "<div>\n",
       "<style scoped>\n",
       "    .dataframe tbody tr th:only-of-type {\n",
       "        vertical-align: middle;\n",
       "    }\n",
       "\n",
       "    .dataframe tbody tr th {\n",
       "        vertical-align: top;\n",
       "    }\n",
       "\n",
       "    .dataframe thead th {\n",
       "        text-align: right;\n",
       "    }\n",
       "</style>\n",
       "<table border=\"1\" class=\"dataframe\">\n",
       "  <thead>\n",
       "    <tr style=\"text-align: right;\">\n",
       "      <th></th>\n",
       "      <th>YearsExperience</th>\n",
       "    </tr>\n",
       "  </thead>\n",
       "  <tbody>\n",
       "    <tr>\n",
       "      <th>0</th>\n",
       "      <td>1.1</td>\n",
       "    </tr>\n",
       "    <tr>\n",
       "      <th>1</th>\n",
       "      <td>1.3</td>\n",
       "    </tr>\n",
       "    <tr>\n",
       "      <th>2</th>\n",
       "      <td>1.5</td>\n",
       "    </tr>\n",
       "    <tr>\n",
       "      <th>3</th>\n",
       "      <td>2.0</td>\n",
       "    </tr>\n",
       "    <tr>\n",
       "      <th>4</th>\n",
       "      <td>2.2</td>\n",
       "    </tr>\n",
       "  </tbody>\n",
       "</table>\n",
       "</div>"
      ],
      "text/plain": [
       "   YearsExperience\n",
       "0              1.1\n",
       "1              1.3\n",
       "2              1.5\n",
       "3              2.0\n",
       "4              2.2"
      ]
     },
     "execution_count": 122,
     "metadata": {},
     "output_type": "execute_result"
    }
   ],
   "source": [
    "x.head()"
   ]
  },
  {
   "cell_type": "code",
   "execution_count": 121,
   "metadata": {},
   "outputs": [
    {
     "data": {
      "text/plain": [
       "(35,)"
      ]
     },
     "execution_count": 121,
     "metadata": {},
     "output_type": "execute_result"
    }
   ],
   "source": [
    "y.shape"
   ]
  },
  {
   "cell_type": "code",
   "execution_count": 123,
   "metadata": {},
   "outputs": [
    {
     "data": {
      "text/plain": [
       "0    39343\n",
       "1    46205\n",
       "2    37731\n",
       "3    43525\n",
       "4    39891\n",
       "Name: Salary, dtype: int64"
      ]
     },
     "execution_count": 123,
     "metadata": {},
     "output_type": "execute_result"
    }
   ],
   "source": [
    "y.head()"
   ]
  },
  {
   "cell_type": "code",
   "execution_count": 124,
   "metadata": {},
   "outputs": [
    {
     "data": {
      "text/plain": [
       "array([[-1.46039873],\n",
       "       [-1.40432198],\n",
       "       [-1.34824523],\n",
       "       [-1.20805336],\n",
       "       [-1.15197661],\n",
       "       [-0.955708  ],\n",
       "       [-0.92766962],\n",
       "       [-0.87159288],\n",
       "       [-0.87159288],\n",
       "       [-0.73140101],\n",
       "       [-0.67532426],\n",
       "       [-0.64728589],\n",
       "       [-0.64728589],\n",
       "       [-0.61924751],\n",
       "       [-0.50709402],\n",
       "       [-0.39494052],\n",
       "       [-0.33886377],\n",
       "       [-0.28278703],\n",
       "       [-0.11455678],\n",
       "       [-0.08651841],\n",
       "       [ 0.13778858],\n",
       "       [ 0.2219037 ],\n",
       "       [ 0.44621069],\n",
       "       [ 0.53032581],\n",
       "       [ 0.67051768],\n",
       "       [ 0.7546328 ],\n",
       "       [ 0.89482467],\n",
       "       [ 0.92286305],\n",
       "       [ 1.11913166],\n",
       "       [ 1.17520841],\n",
       "       [ 1.37147703],\n",
       "       [ 1.45559215],\n",
       "       [ 1.67989914],\n",
       "       [ 1.84812938],\n",
       "       [ 2.01635962]])"
      ]
     },
     "execution_count": 124,
     "metadata": {},
     "output_type": "execute_result"
    }
   ],
   "source": [
    "# Scaling down using standardscaler\n",
    "from sklearn.preprocessing import StandardScaler\n",
    "sc = StandardScaler()\n",
    "x = sc.fit_transform(x)\n",
    "x"
   ]
  },
  {
   "cell_type": "markdown",
   "metadata": {},
   "source": [
    "# # data is ready for machine learning"
   ]
  },
  {
   "cell_type": "code",
   "execution_count": 125,
   "metadata": {},
   "outputs": [
    {
     "name": "stdout",
     "output_type": "stream",
     "text": [
      "r2_score corresponding to random state:  42  is:  0.891423414004278\n",
      "\n",
      "\n",
      "max r2 score corresponding to  42  is  0.891423414004278\n",
      "r2_score corresponding to random state:  43  is:  0.9802305207599402\n",
      "\n",
      "\n",
      "max r2 score corresponding to  43  is  0.9802305207599402\n",
      "r2_score corresponding to random state:  44  is:  0.9548913170296416\n",
      "\n",
      "\n",
      "max r2 score corresponding to  43  is  0.9802305207599402\n",
      "r2_score corresponding to random state:  45  is:  0.9622918082155796\n",
      "\n",
      "\n",
      "max r2 score corresponding to  43  is  0.9802305207599402\n",
      "r2_score corresponding to random state:  46  is:  0.974544324718912\n",
      "\n",
      "\n",
      "max r2 score corresponding to  43  is  0.9802305207599402\n",
      "r2_score corresponding to random state:  47  is:  0.9751319108791024\n",
      "\n",
      "\n",
      "max r2 score corresponding to  43  is  0.9802305207599402\n",
      "r2_score corresponding to random state:  48  is:  0.9406195256733534\n",
      "\n",
      "\n",
      "max r2 score corresponding to  43  is  0.9802305207599402\n",
      "r2_score corresponding to random state:  49  is:  0.9666319804216519\n",
      "\n",
      "\n",
      "max r2 score corresponding to  43  is  0.9802305207599402\n",
      "r2_score corresponding to random state:  50  is:  0.9011406177298907\n",
      "\n",
      "\n",
      "max r2 score corresponding to  43  is  0.9802305207599402\n",
      "r2_score corresponding to random state:  51  is:  0.9829023318844469\n",
      "\n",
      "\n",
      "max r2 score corresponding to  51  is  0.9829023318844469\n",
      "r2_score corresponding to random state:  52  is:  0.8588871400798608\n",
      "\n",
      "\n",
      "max r2 score corresponding to  51  is  0.9829023318844469\n",
      "r2_score corresponding to random state:  53  is:  0.932978801460255\n",
      "\n",
      "\n",
      "max r2 score corresponding to  51  is  0.9829023318844469\n",
      "r2_score corresponding to random state:  54  is:  0.9419693748840656\n",
      "\n",
      "\n",
      "max r2 score corresponding to  51  is  0.9829023318844469\n",
      "r2_score corresponding to random state:  55  is:  0.9410302461460721\n",
      "\n",
      "\n",
      "max r2 score corresponding to  51  is  0.9829023318844469\n",
      "r2_score corresponding to random state:  56  is:  0.9603359168250438\n",
      "\n",
      "\n",
      "max r2 score corresponding to  51  is  0.9829023318844469\n",
      "r2_score corresponding to random state:  57  is:  0.9354431869142017\n",
      "\n",
      "\n",
      "max r2 score corresponding to  51  is  0.9829023318844469\n",
      "r2_score corresponding to random state:  58  is:  0.9338977161594355\n",
      "\n",
      "\n",
      "max r2 score corresponding to  51  is  0.9829023318844469\n",
      "r2_score corresponding to random state:  59  is:  0.9765929457127598\n",
      "\n",
      "\n",
      "max r2 score corresponding to  51  is  0.9829023318844469\n",
      "r2_score corresponding to random state:  60  is:  0.9743325641546887\n",
      "\n",
      "\n",
      "max r2 score corresponding to  51  is  0.9829023318844469\n",
      "r2_score corresponding to random state:  61  is:  0.9723169661642446\n",
      "\n",
      "\n",
      "max r2 score corresponding to  51  is  0.9829023318844469\n",
      "r2_score corresponding to random state:  62  is:  0.978093451828599\n",
      "\n",
      "\n",
      "max r2 score corresponding to  51  is  0.9829023318844469\n",
      "r2_score corresponding to random state:  63  is:  0.9831988635405368\n",
      "\n",
      "\n",
      "max r2 score corresponding to  63  is  0.9831988635405368\n",
      "r2_score corresponding to random state:  64  is:  0.9698925128547411\n",
      "\n",
      "\n",
      "max r2 score corresponding to  63  is  0.9831988635405368\n",
      "r2_score corresponding to random state:  65  is:  0.9494043962694996\n",
      "\n",
      "\n",
      "max r2 score corresponding to  63  is  0.9831988635405368\n",
      "r2_score corresponding to random state:  66  is:  0.9813905425097371\n",
      "\n",
      "\n",
      "max r2 score corresponding to  63  is  0.9831988635405368\n",
      "r2_score corresponding to random state:  67  is:  0.9424766944077936\n",
      "\n",
      "\n",
      "max r2 score corresponding to  63  is  0.9831988635405368\n",
      "r2_score corresponding to random state:  68  is:  0.9375430439070982\n",
      "\n",
      "\n",
      "max r2 score corresponding to  63  is  0.9831988635405368\n",
      "r2_score corresponding to random state:  69  is:  0.9636183772949349\n",
      "\n",
      "\n",
      "max r2 score corresponding to  63  is  0.9831988635405368\n",
      "r2_score corresponding to random state:  70  is:  0.935108979192997\n",
      "\n",
      "\n",
      "max r2 score corresponding to  63  is  0.9831988635405368\n",
      "r2_score corresponding to random state:  71  is:  0.981504328918069\n",
      "\n",
      "\n",
      "max r2 score corresponding to  63  is  0.9831988635405368\n",
      "r2_score corresponding to random state:  72  is:  0.9621970789402687\n",
      "\n",
      "\n",
      "max r2 score corresponding to  63  is  0.9831988635405368\n",
      "r2_score corresponding to random state:  73  is:  0.9620726690598012\n",
      "\n",
      "\n",
      "max r2 score corresponding to  63  is  0.9831988635405368\n",
      "r2_score corresponding to random state:  74  is:  0.8882410906421462\n",
      "\n",
      "\n",
      "max r2 score corresponding to  63  is  0.9831988635405368\n",
      "r2_score corresponding to random state:  75  is:  0.9659739294265381\n",
      "\n",
      "\n",
      "max r2 score corresponding to  63  is  0.9831988635405368\n",
      "r2_score corresponding to random state:  76  is:  0.9346185834810464\n",
      "\n",
      "\n",
      "max r2 score corresponding to  63  is  0.9831988635405368\n",
      "r2_score corresponding to random state:  77  is:  0.9567182980612303\n",
      "\n",
      "\n",
      "max r2 score corresponding to  63  is  0.9831988635405368\n",
      "r2_score corresponding to random state:  78  is:  0.9602404155276623\n",
      "\n",
      "\n",
      "max r2 score corresponding to  63  is  0.9831988635405368\n",
      "r2_score corresponding to random state:  79  is:  0.959009383086997\n",
      "\n",
      "\n",
      "max r2 score corresponding to  63  is  0.9831988635405368\n",
      "r2_score corresponding to random state:  80  is:  0.9684465613406313\n",
      "\n",
      "\n",
      "max r2 score corresponding to  63  is  0.9831988635405368\n",
      "r2_score corresponding to random state:  81  is:  0.9728730877875188\n",
      "\n",
      "\n",
      "max r2 score corresponding to  63  is  0.9831988635405368\n",
      "r2_score corresponding to random state:  82  is:  0.9613831871924327\n",
      "\n",
      "\n",
      "max r2 score corresponding to  63  is  0.9831988635405368\n",
      "r2_score corresponding to random state:  83  is:  0.9839565560663062\n",
      "\n",
      "\n",
      "max r2 score corresponding to  83  is  0.9839565560663062\n",
      "r2_score corresponding to random state:  84  is:  0.9859377707625315\n",
      "\n",
      "\n",
      "max r2 score corresponding to  84  is  0.9859377707625315\n",
      "r2_score corresponding to random state:  85  is:  0.9412034818859378\n",
      "\n",
      "\n",
      "max r2 score corresponding to  84  is  0.9859377707625315\n",
      "r2_score corresponding to random state:  86  is:  0.959785472065746\n",
      "\n",
      "\n",
      "max r2 score corresponding to  84  is  0.9859377707625315\n",
      "r2_score corresponding to random state:  87  is:  0.9805737552689112\n",
      "\n",
      "\n",
      "max r2 score corresponding to  84  is  0.9859377707625315\n",
      "r2_score corresponding to random state:  88  is:  0.8866407952444979\n",
      "\n",
      "\n",
      "max r2 score corresponding to  84  is  0.9859377707625315\n",
      "r2_score corresponding to random state:  89  is:  0.9712511547257723\n",
      "\n",
      "\n",
      "max r2 score corresponding to  84  is  0.9859377707625315\n",
      "r2_score corresponding to random state:  90  is:  0.9702628677707178\n",
      "\n",
      "\n",
      "max r2 score corresponding to  84  is  0.9859377707625315\n",
      "r2_score corresponding to random state:  91  is:  0.9486733905493187\n",
      "\n",
      "\n",
      "max r2 score corresponding to  84  is  0.9859377707625315\n",
      "r2_score corresponding to random state:  92  is:  0.9450552098254574\n",
      "\n",
      "\n",
      "max r2 score corresponding to  84  is  0.9859377707625315\n",
      "r2_score corresponding to random state:  93  is:  0.9781027660175828\n",
      "\n",
      "\n",
      "max r2 score corresponding to  84  is  0.9859377707625315\n",
      "r2_score corresponding to random state:  94  is:  0.9595466243022435\n",
      "\n",
      "\n",
      "max r2 score corresponding to  84  is  0.9859377707625315\n",
      "r2_score corresponding to random state:  95  is:  0.9606589388383038\n",
      "\n",
      "\n",
      "max r2 score corresponding to  84  is  0.9859377707625315\n",
      "r2_score corresponding to random state:  96  is:  0.9725867009652173\n",
      "\n",
      "\n",
      "max r2 score corresponding to  84  is  0.9859377707625315\n",
      "r2_score corresponding to random state:  97  is:  0.9525732741807493\n",
      "\n",
      "\n",
      "max r2 score corresponding to  84  is  0.9859377707625315\n",
      "r2_score corresponding to random state:  98  is:  0.950186620351538\n",
      "\n",
      "\n",
      "max r2 score corresponding to  84  is  0.9859377707625315\n",
      "r2_score corresponding to random state:  99  is:  0.8728733777031575\n",
      "\n",
      "\n",
      "max r2 score corresponding to  84  is  0.9859377707625315\n",
      "r2_score corresponding to random state:  100  is:  0.9631138568382939\n",
      "\n",
      "\n",
      "max r2 score corresponding to  84  is  0.9859377707625315\n"
     ]
    }
   ],
   "source": [
    "from sklearn.model_selection import train_test_split\n",
    "from sklearn.metrics import mean_absolute_error\n",
    "from sklearn.metrics import mean_squared_error\n",
    "from sklearn.metrics import r2_score\n",
    "from sklearn.linear_model import LinearRegression\n",
    "\n",
    "max_r_score=0\n",
    "for r_state in range(42,101):\n",
    "    x_train, x_test, y_train, y_test = train_test_split(x, y,random_state=r_state,test_size=0.20)\n",
    "    lr = LinearRegression()\n",
    "    lr.fit(x_train,y_train)\n",
    "    y_pred = lr.predict(x_test)\n",
    "    r2_scr = r2_score(y_test,y_pred)\n",
    "    print(\"r2_score corresponding to random state: \",r_state,\" is: \",r2_scr)\n",
    "    if r2_scr>max_r_score:\n",
    "        max_r_score=r2_scr\n",
    "        final_r_state=r_state\n",
    "    print()\n",
    "    print()\n",
    "    print(\"max r2 score corresponding to \",final_r_state,\" is \",max_r_score)\n",
    "    # The below output shows that we are getting level of r2 score in most of the cases and max value is also shown"
   ]
  },
  {
   "cell_type": "code",
   "execution_count": 129,
   "metadata": {},
   "outputs": [
    {
     "name": "stdout",
     "output_type": "stream",
     "text": [
      "[ 0.65510864 -2.50375787  0.6436224  -0.48772673 -1.81809826]\n",
      "-0.7021703650913066\n",
      "1.2798721143389482\n"
     ]
    }
   ],
   "source": [
    "# using corss_val_score to check the score of the regression\n",
    "from sklearn.model_selection import cross_val_score\n",
    "a_score=cross_val_score(lr,x,y,cv=5)\n",
    "print(a_score)\n",
    "print(a_score.mean())\n",
    "print(np.std(a_score))"
   ]
  },
  {
   "cell_type": "code",
   "execution_count": 130,
   "metadata": {},
   "outputs": [],
   "source": [
    "# since maximum r2 score is comming around random state 84 we'll use that to checking with other Models\n",
    "x_train, x_test, y_train, y_test = train_test_split(x, y,random_state = 84,test_size=0.20)"
   ]
  },
  {
   "cell_type": "code",
   "execution_count": 131,
   "metadata": {},
   "outputs": [
    {
     "data": {
      "text/plain": [
       "(28, 1)"
      ]
     },
     "execution_count": 131,
     "metadata": {},
     "output_type": "execute_result"
    }
   ],
   "source": [
    "x_train.shape"
   ]
  },
  {
   "cell_type": "code",
   "execution_count": 132,
   "metadata": {},
   "outputs": [
    {
     "data": {
      "text/plain": [
       "(28,)"
      ]
     },
     "execution_count": 132,
     "metadata": {},
     "output_type": "execute_result"
    }
   ],
   "source": [
    "y_train.shape"
   ]
  },
  {
   "cell_type": "code",
   "execution_count": 133,
   "metadata": {},
   "outputs": [
    {
     "data": {
      "text/plain": [
       "(7, 1)"
      ]
     },
     "execution_count": 133,
     "metadata": {},
     "output_type": "execute_result"
    }
   ],
   "source": [
    "x_test.shape"
   ]
  },
  {
   "cell_type": "code",
   "execution_count": 134,
   "metadata": {},
   "outputs": [
    {
     "data": {
      "text/plain": [
       "(7,)"
      ]
     },
     "execution_count": 134,
     "metadata": {},
     "output_type": "execute_result"
    }
   ],
   "source": [
    "y_test.shape"
   ]
  },
  {
   "cell_type": "code",
   "execution_count": 136,
   "metadata": {},
   "outputs": [],
   "source": [
    "# Importing important libraries\n",
    "from sklearn.model_selection import GridSearchCV\n",
    "from sklearn.svm import SVR\n",
    "from sklearn.tree import DecisionTreeRegressor\n",
    "from sklearn.neighbors import KNeighborsRegressor\n",
    "from sklearn.ensemble import RandomForestRegressor\n",
    "from sklearn.linear_model import Lasso\n",
    "from sklearn.ensemble import GradientBoostingRegressor"
   ]
  },
  {
   "cell_type": "code",
   "execution_count": 140,
   "metadata": {},
   "outputs": [
    {
     "data": {
      "text/plain": [
       "{'C': 10, 'kernel': 'linear'}"
      ]
     },
     "execution_count": 140,
     "metadata": {},
     "output_type": "execute_result"
    }
   ],
   "source": [
    "# finding best parameters for SVR using GridSearchCV\n",
    "svr=SVR()\n",
    "parameters={'kernel':('linear','ploy','rbf'), 'C':[1,10]}\n",
    "svrgd=GridSearchCV(svr,parameters, cv=5)\n",
    "svrgd.fit(x_train,y_train)\n",
    "svrgd.best_params_"
   ]
  },
  {
   "cell_type": "code",
   "execution_count": 141,
   "metadata": {},
   "outputs": [
    {
     "data": {
      "text/plain": [
       "{'criterion': 'mse'}"
      ]
     },
     "execution_count": 141,
     "metadata": {},
     "output_type": "execute_result"
    }
   ],
   "source": [
    "# finding best parameters for DecisionTreeRegressor using GridSearchCV\n",
    "dtr=DecisionTreeRegressor()\n",
    "parameters={'criterion':('mse', 'friedman_mse', 'mae')}\n",
    "dtrgd=GridSearchCV(dtr,parameters, cv=5)\n",
    "dtrgd.fit(x_train,y_train)\n",
    "dtrgd.best_params_"
   ]
  },
  {
   "cell_type": "code",
   "execution_count": 151,
   "metadata": {},
   "outputs": [
    {
     "data": {
      "text/plain": [
       "{'n_neighbors': 4}"
      ]
     },
     "execution_count": 151,
     "metadata": {},
     "output_type": "execute_result"
    }
   ],
   "source": [
    "# finding best parameters for KNN using GridSearchCV\n",
    "# Expected n_neighbors <= n_samples = 22\n",
    "parameters={'n_neighbors':range(1,22)}\n",
    "knngd=GridSearchCV(knn,parameters, cv=5)\n",
    "knngd.fit(x_train,y_train)\n",
    "knngd.best_params_"
   ]
  },
  {
   "cell_type": "code",
   "execution_count": 144,
   "metadata": {},
   "outputs": [
    {
     "data": {
      "text/plain": [
       "{'n_estimators': 100}"
      ]
     },
     "execution_count": 144,
     "metadata": {},
     "output_type": "execute_result"
    }
   ],
   "source": [
    "# finding best parameters for RandomForestRegressor using GridSearchCV\n",
    "rfr=RandomForestRegressor()\n",
    "parameters={'n_estimators':[100,199]}\n",
    "rfrgd=GridSearchCV(rfr,parameters, cv=5)\n",
    "rfrgd.fit(x_train,y_train)\n",
    "rfrgd.best_params_"
   ]
  },
  {
   "cell_type": "code",
   "execution_count": 145,
   "metadata": {},
   "outputs": [
    {
     "data": {
      "text/plain": [
       "{'alpha': 0.001}"
      ]
     },
     "execution_count": 145,
     "metadata": {},
     "output_type": "execute_result"
    }
   ],
   "source": [
    "# finding best alpha value for lasso regression using GridSearchCV\n",
    "lsor=Lasso()\n",
    "parameters={'alpha':[0.001,0.01,0.1,1]}\n",
    "lasgd=GridSearchCV(lsor,parameters, cv=5)\n",
    "lasgd.fit(x_train,y_train)\n",
    "lasgd.best_params_"
   ]
  },
  {
   "cell_type": "code",
   "execution_count": 146,
   "metadata": {},
   "outputs": [
    {
     "data": {
      "text/plain": [
       "{'learning_rate': 0.01, 'n_estimators': 500}"
      ]
     },
     "execution_count": 146,
     "metadata": {},
     "output_type": "execute_result"
    }
   ],
   "source": [
    "# finding best parameters for gradient boosting using GridSearchCV\n",
    "gbr=GradientBoostingRegressor()\n",
    "parameters={'learning_rate':[0.001,0.01,0.1,1],'n_estimators':[10,100,500,1000]}\n",
    "gbrgd=GridSearchCV(gbr,parameters, cv=5)\n",
    "gbrgd.fit(x_train,y_train)\n",
    "gbrgd.best_params_"
   ]
  },
  {
   "cell_type": "code",
   "execution_count": 152,
   "metadata": {},
   "outputs": [],
   "source": [
    "lr = LinearRegression()\n",
    "svr = SVR(C=10, kernel='linear')\n",
    "dtr = DecisionTreeRegressor(criterion='mse')\n",
    "knn = KNeighborsRegressor(n_neighbors=4)\n",
    "rfr = RandomForestRegressor(n_estimators=100)\n",
    "lsor = Lasso(alpha=0.001)\n",
    "gbr = GradientBoostingRegressor(learning_rate=0.01, n_estimators=500)"
   ]
  },
  {
   "cell_type": "code",
   "execution_count": 153,
   "metadata": {},
   "outputs": [],
   "source": [
    "models = []\n",
    "models.append(('LinearRegression', lr))\n",
    "models.append(('SVR', svr))\n",
    "models.append(('DecisionTreeRegressor', dtr))\n",
    "models.append(('KNeighborsRegressor', knn))\n",
    "models.append(('RandomForestRegressor', rfr))\n",
    "models.append(('Lasso', lsor))\n",
    "models.append(('GradientBoostingRegressor', gbr))"
   ]
  },
  {
   "cell_type": "code",
   "execution_count": 156,
   "metadata": {},
   "outputs": [
    {
     "name": "stdout",
     "output_type": "stream",
     "text": [
      "******************** LinearRegression **********************\n",
      "\n",
      "\n",
      "LinearRegression(copy_X=True, fit_intercept=True, n_jobs=None, normalize=False)\n",
      "\n",
      "\n",
      "r2 Score = 0.9859377707625315\n",
      "\n",
      "\n",
      "RMSE = 3605.8770601030315\n",
      "\n",
      "\n",
      "MAE = 3447.628056123615\n",
      "\n",
      "\n",
      "MSE = 13002349.372577282\n",
      "\n",
      "\n",
      "Cross_val_score = -1.4389719717572487\n",
      "\n",
      "\n",
      "Standard Deviation = 2.1576227735298628\n",
      "\n",
      "\n",
      "\n",
      "******************** SVR **********************\n",
      "\n",
      "\n",
      "SVR(C=10, cache_size=200, coef0=0.0, degree=3, epsilon=0.1, gamma='scale',\n",
      "    kernel='linear', max_iter=-1, shrinking=True, tol=0.001, verbose=False)\n",
      "\n",
      "\n",
      "r2 Score = 0.0036044955492047226\n",
      "\n",
      "\n",
      "RMSE = 30352.86628495493\n",
      "\n",
      "\n",
      "MAE = 28471.072125130166\n",
      "\n",
      "\n",
      "MSE = 921296491.7123536\n",
      "\n",
      "\n",
      "Cross_val_score = -152.37621560716264\n",
      "\n",
      "\n",
      "Standard Deviation = 155.0753024011186\n",
      "\n",
      "\n",
      "\n",
      "******************** DecisionTreeRegressor **********************\n",
      "\n",
      "\n",
      "DecisionTreeRegressor(ccp_alpha=0.0, criterion='mse', max_depth=None,\n",
      "                      max_features=None, max_leaf_nodes=None,\n",
      "                      min_impurity_decrease=0.0, min_impurity_split=None,\n",
      "                      min_samples_leaf=1, min_samples_split=2,\n",
      "                      min_weight_fraction_leaf=0.0, presort='deprecated',\n",
      "                      random_state=None, splitter='best')\n",
      "\n",
      "\n",
      "r2 Score = 0.9651214480391737\n",
      "\n",
      "\n",
      "RMSE = 5678.884711933195\n",
      "\n",
      "\n",
      "MAE = 4990.714285714285\n",
      "\n",
      "\n",
      "MSE = 32249731.57142857\n",
      "\n",
      "\n",
      "Cross_val_score = -1.9618120636954515\n",
      "\n",
      "\n",
      "Standard Deviation = 2.7940025659856413\n",
      "\n",
      "\n",
      "\n",
      "******************** KNeighborsRegressor **********************\n",
      "\n",
      "\n",
      "KNeighborsRegressor(algorithm='auto', leaf_size=30, metric='minkowski',\n",
      "                    metric_params=None, n_jobs=None, n_neighbors=4, p=2,\n",
      "                    weights='uniform')\n",
      "\n",
      "\n",
      "r2 Score = 0.9940493842206293\n",
      "\n",
      "\n",
      "RMSE = 2345.6584972485416\n",
      "\n",
      "\n",
      "MAE = 1998.642857142857\n",
      "\n",
      "\n",
      "MSE = 5502113.785714285\n",
      "\n",
      "\n",
      "Cross_val_score = -2.769679322829418\n",
      "\n",
      "\n",
      "Standard Deviation = 3.5143022267793778\n",
      "\n",
      "\n",
      "\n",
      "******************** RandomForestRegressor **********************\n",
      "\n",
      "\n",
      "RandomForestRegressor(bootstrap=True, ccp_alpha=0.0, criterion='mse',\n",
      "                      max_depth=None, max_features='auto', max_leaf_nodes=None,\n",
      "                      max_samples=None, min_impurity_decrease=0.0,\n",
      "                      min_impurity_split=None, min_samples_leaf=1,\n",
      "                      min_samples_split=2, min_weight_fraction_leaf=0.0,\n",
      "                      n_estimators=100, n_jobs=None, oob_score=False,\n",
      "                      random_state=None, verbose=0, warm_start=False)\n",
      "\n",
      "\n",
      "r2 Score = 0.9825154302746004\n",
      "\n",
      "\n",
      "RMSE = 4020.7891899560914\n",
      "\n",
      "\n",
      "MAE = 3321.7293809523803\n",
      "\n",
      "\n",
      "MSE = 16166745.710067762\n",
      "\n",
      "\n",
      "Cross_val_score = -1.3957173909840246\n",
      "\n",
      "\n",
      "Standard Deviation = 1.913073920716655\n",
      "\n",
      "\n",
      "\n",
      "******************** Lasso **********************\n",
      "\n",
      "\n",
      "Lasso(alpha=0.001, copy_X=True, fit_intercept=True, max_iter=1000,\n",
      "      normalize=False, positive=False, precompute=False, random_state=None,\n",
      "      selection='cyclic', tol=0.0001, warm_start=False)\n",
      "\n",
      "\n",
      "r2 Score = 0.9859377691359557\n",
      "\n",
      "\n",
      "RMSE = 3605.8772686486463\n",
      "\n",
      "\n",
      "MAE = 3447.628384316505\n",
      "\n",
      "\n",
      "MSE = 13002350.876557022\n",
      "\n",
      "\n",
      "Cross_val_score = -1.438971824139306\n",
      "\n",
      "\n",
      "Standard Deviation = 2.1576223441766573\n",
      "\n",
      "\n",
      "\n",
      "******************** GradientBoostingRegressor **********************\n",
      "\n",
      "\n",
      "GradientBoostingRegressor(alpha=0.9, ccp_alpha=0.0, criterion='friedman_mse',\n",
      "                          init=None, learning_rate=0.01, loss='ls', max_depth=3,\n",
      "                          max_features=None, max_leaf_nodes=None,\n",
      "                          min_impurity_decrease=0.0, min_impurity_split=None,\n",
      "                          min_samples_leaf=1, min_samples_split=2,\n",
      "                          min_weight_fraction_leaf=0.0, n_estimators=500,\n",
      "                          n_iter_no_change=None, presort='deprecated',\n",
      "                          random_state=None, subsample=1.0, tol=0.0001,\n",
      "                          validation_fraction=0.1, verbose=0, warm_start=False)\n",
      "\n",
      "\n",
      "r2 Score = 0.9725381976474891\n",
      "\n",
      "\n",
      "RMSE = 5039.046285685901\n",
      "\n",
      "\n",
      "MAE = 4450.120715307712\n",
      "\n",
      "\n",
      "MSE = 25391987.469284873\n",
      "\n",
      "\n",
      "Cross_val_score = -1.6585081593454145\n",
      "\n",
      "\n",
      "Standard Deviation = 2.6937673468462466\n",
      "\n",
      "\n",
      "\n"
     ]
    }
   ],
   "source": [
    "# Testing all required models with best parameters calculated\n",
    "\n",
    "Model=[]\n",
    "score=[]\n",
    "rmse=[]\n",
    "mae=[]\n",
    "mse=[]\n",
    "cvs=[]\n",
    "std=[]\n",
    "\n",
    "for name,model in models:\n",
    "    print('********************',name,'**********************')\n",
    "    print(\"\\n\")\n",
    "    Model.append(name)\n",
    "    model.fit(x_train,y_train)\n",
    "    print(model)\n",
    "    predict=model.predict(x_test)\n",
    "    print(\"\\n\")\n",
    "    rscore=r2_score(y_test,predict)\n",
    "    print(\"r2 Score =\", rscore)\n",
    "    score.append(rscore*100)\n",
    "    print(\"\\n\")\n",
    "    RMS=np.sqrt(mean_squared_error(y_test,predict))\n",
    "    print(\"RMSE =\", RMS)\n",
    "    rmse.append(RMS*100)\n",
    "    print(\"\\n\")\n",
    "    MA=mean_absolute_error(y_test,predict)\n",
    "    print(\"MAE =\", MA)\n",
    "    mae.append(MA*100)\n",
    "    print(\"\\n\")\n",
    "    MS=mean_squared_error(y_test,predict)\n",
    "    print(\"MSE =\", MS)\n",
    "    mse.append(MS*100)\n",
    "    print(\"\\n\")\n",
    "    cvscore=cross_val_score(model, x, y, cv=10).mean()\n",
    "    print(\"Cross_val_score =\", cvscore)\n",
    "    cvs.append(cvscore*100)\n",
    "    print(\"\\n\")\n",
    "    stdscore=cross_val_score(model, x, y, cv=10).std()\n",
    "    print(\"Standard Deviation =\", stdscore)\n",
    "    std.append(stdscore*100)\n",
    "    print(\"\\n\\n\")"
   ]
  },
  {
   "cell_type": "code",
   "execution_count": 157,
   "metadata": {},
   "outputs": [
    {
     "data": {
      "text/html": [
       "<div>\n",
       "<style scoped>\n",
       "    .dataframe tbody tr th:only-of-type {\n",
       "        vertical-align: middle;\n",
       "    }\n",
       "\n",
       "    .dataframe tbody tr th {\n",
       "        vertical-align: top;\n",
       "    }\n",
       "\n",
       "    .dataframe thead th {\n",
       "        text-align: right;\n",
       "    }\n",
       "</style>\n",
       "<table border=\"1\" class=\"dataframe\">\n",
       "  <thead>\n",
       "    <tr style=\"text-align: right;\">\n",
       "      <th></th>\n",
       "      <th>Model</th>\n",
       "      <th>r2_score</th>\n",
       "      <th>Root_mean_square</th>\n",
       "      <th>Mean_absolute_error</th>\n",
       "      <th>Mean_square_error</th>\n",
       "      <th>Cross_val_score_mean</th>\n",
       "      <th>Cross_val_score_Std</th>\n",
       "    </tr>\n",
       "  </thead>\n",
       "  <tbody>\n",
       "    <tr>\n",
       "      <th>0</th>\n",
       "      <td>LinearRegression</td>\n",
       "      <td>98.593777</td>\n",
       "      <td>3.605877e+05</td>\n",
       "      <td>3.447628e+05</td>\n",
       "      <td>1.300235e+09</td>\n",
       "      <td>-143.897197</td>\n",
       "      <td>215.762277</td>\n",
       "    </tr>\n",
       "    <tr>\n",
       "      <th>1</th>\n",
       "      <td>SVR</td>\n",
       "      <td>0.360450</td>\n",
       "      <td>3.035287e+06</td>\n",
       "      <td>2.847107e+06</td>\n",
       "      <td>9.212965e+10</td>\n",
       "      <td>-15237.621561</td>\n",
       "      <td>15507.530240</td>\n",
       "    </tr>\n",
       "    <tr>\n",
       "      <th>2</th>\n",
       "      <td>DecisionTreeRegressor</td>\n",
       "      <td>96.512145</td>\n",
       "      <td>5.678885e+05</td>\n",
       "      <td>4.990714e+05</td>\n",
       "      <td>3.224973e+09</td>\n",
       "      <td>-196.181206</td>\n",
       "      <td>279.400257</td>\n",
       "    </tr>\n",
       "    <tr>\n",
       "      <th>3</th>\n",
       "      <td>KNeighborsRegressor</td>\n",
       "      <td>99.404938</td>\n",
       "      <td>2.345658e+05</td>\n",
       "      <td>1.998643e+05</td>\n",
       "      <td>5.502114e+08</td>\n",
       "      <td>-276.967932</td>\n",
       "      <td>351.430223</td>\n",
       "    </tr>\n",
       "    <tr>\n",
       "      <th>4</th>\n",
       "      <td>RandomForestRegressor</td>\n",
       "      <td>98.251543</td>\n",
       "      <td>4.020789e+05</td>\n",
       "      <td>3.321729e+05</td>\n",
       "      <td>1.616675e+09</td>\n",
       "      <td>-139.571739</td>\n",
       "      <td>191.307392</td>\n",
       "    </tr>\n",
       "    <tr>\n",
       "      <th>5</th>\n",
       "      <td>Lasso</td>\n",
       "      <td>98.593777</td>\n",
       "      <td>3.605877e+05</td>\n",
       "      <td>3.447628e+05</td>\n",
       "      <td>1.300235e+09</td>\n",
       "      <td>-143.897182</td>\n",
       "      <td>215.762234</td>\n",
       "    </tr>\n",
       "    <tr>\n",
       "      <th>6</th>\n",
       "      <td>GradientBoostingRegressor</td>\n",
       "      <td>97.253820</td>\n",
       "      <td>5.039046e+05</td>\n",
       "      <td>4.450121e+05</td>\n",
       "      <td>2.539199e+09</td>\n",
       "      <td>-165.850816</td>\n",
       "      <td>269.376735</td>\n",
       "    </tr>\n",
       "  </tbody>\n",
       "</table>\n",
       "</div>"
      ],
      "text/plain": [
       "                       Model   r2_score  Root_mean_square  \\\n",
       "0           LinearRegression  98.593777      3.605877e+05   \n",
       "1                        SVR   0.360450      3.035287e+06   \n",
       "2      DecisionTreeRegressor  96.512145      5.678885e+05   \n",
       "3        KNeighborsRegressor  99.404938      2.345658e+05   \n",
       "4      RandomForestRegressor  98.251543      4.020789e+05   \n",
       "5                      Lasso  98.593777      3.605877e+05   \n",
       "6  GradientBoostingRegressor  97.253820      5.039046e+05   \n",
       "\n",
       "   Mean_absolute_error  Mean_square_error  Cross_val_score_mean  \\\n",
       "0         3.447628e+05       1.300235e+09           -143.897197   \n",
       "1         2.847107e+06       9.212965e+10         -15237.621561   \n",
       "2         4.990714e+05       3.224973e+09           -196.181206   \n",
       "3         1.998643e+05       5.502114e+08           -276.967932   \n",
       "4         3.321729e+05       1.616675e+09           -139.571739   \n",
       "5         3.447628e+05       1.300235e+09           -143.897182   \n",
       "6         4.450121e+05       2.539199e+09           -165.850816   \n",
       "\n",
       "   Cross_val_score_Std  \n",
       "0           215.762277  \n",
       "1         15507.530240  \n",
       "2           279.400257  \n",
       "3           351.430223  \n",
       "4           191.307392  \n",
       "5           215.762234  \n",
       "6           269.376735  "
      ]
     },
     "execution_count": 157,
     "metadata": {},
     "output_type": "execute_result"
    }
   ],
   "source": [
    "import pandas as pd\n",
    "result=pd.DataFrame({'Model': Model, 'r2_score': score, 'Root_mean_square': rmse,'Mean_absolute_error': mae, 'Mean_square_error': mse, 'Cross_val_score_mean':cvs, 'Cross_val_score_Std': std })\n",
    "result"
   ]
  },
  {
   "cell_type": "code",
   "execution_count": null,
   "metadata": {},
   "outputs": [],
   "source": [
    "# The above analysis shows that LinearRegression and Lasso is giving the same result, hence we can select any one model."
   ]
  },
  {
   "cell_type": "code",
   "execution_count": 162,
   "metadata": {},
   "outputs": [
    {
     "data": {
      "text/plain": [
       "['Salary_lr.cvs']"
      ]
     },
     "execution_count": 162,
     "metadata": {},
     "output_type": "execute_result"
    }
   ],
   "source": [
    "from sklearn.externals import joblib\n",
    "# Save the model as a pickle in a file\n",
    "joblib.dump(lr, 'Salary_lr.cvs')"
   ]
  },
  {
   "cell_type": "code",
   "execution_count": 163,
   "metadata": {},
   "outputs": [],
   "source": [
    "model=joblib.load('Salary_lr.cvs')"
   ]
  },
  {
   "cell_type": "code",
   "execution_count": 164,
   "metadata": {},
   "outputs": [
    {
     "data": {
      "text/plain": [
       "array([ 54892.04746551,  46207.50165644,  54023.5928846 ,  87893.32153999,\n",
       "       118289.23187176, 120026.14103357,  60971.22953186])"
      ]
     },
     "execution_count": 164,
     "metadata": {},
     "output_type": "execute_result"
    }
   ],
   "source": [
    "model.predict(x_test)"
   ]
  },
  {
   "cell_type": "code",
   "execution_count": null,
   "metadata": {},
   "outputs": [],
   "source": []
  }
 ],
 "metadata": {
  "kernelspec": {
   "display_name": "Python 3",
   "language": "python",
   "name": "python3"
  },
  "language_info": {
   "codemirror_mode": {
    "name": "ipython",
    "version": 3
   },
   "file_extension": ".py",
   "mimetype": "text/x-python",
   "name": "python",
   "nbconvert_exporter": "python",
   "pygments_lexer": "ipython3",
   "version": "3.7.6"
  }
 },
 "nbformat": 4,
 "nbformat_minor": 4
}
